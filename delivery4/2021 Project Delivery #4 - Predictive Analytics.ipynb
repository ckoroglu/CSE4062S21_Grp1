{
 "cells": [
  {
   "cell_type": "markdown",
   "metadata": {},
   "source": [
    "<h1>Preprocessing</h1>"
   ]
  },
  {
   "cell_type": "code",
   "execution_count": 1,
   "metadata": {},
   "outputs": [
    {
     "name": "stdout",
     "output_type": "stream",
     "text": [
      "4392\n",
      "<class 'pandas.core.frame.DataFrame'>\n",
      "Int64Index: 22077 entries, 0 to 4391\n",
      "Columns: 226 entries, Stock to Year\n",
      "dtypes: float64(222), int64(2), object(2)\n",
      "memory usage: 38.2+ MB\n"
     ]
    },
    {
     "data": {
      "text/html": [
       "<div>\n",
       "<style scoped>\n",
       "    .dataframe tbody tr th:only-of-type {\n",
       "        vertical-align: middle;\n",
       "    }\n",
       "\n",
       "    .dataframe tbody tr th {\n",
       "        vertical-align: top;\n",
       "    }\n",
       "\n",
       "    .dataframe thead th {\n",
       "        text-align: right;\n",
       "    }\n",
       "</style>\n",
       "<table border=\"1\" class=\"dataframe\">\n",
       "  <thead>\n",
       "    <tr style=\"text-align: right;\">\n",
       "      <th></th>\n",
       "      <th>Stock</th>\n",
       "      <th>Revenue</th>\n",
       "      <th>Revenue Growth</th>\n",
       "      <th>Cost of Revenue</th>\n",
       "      <th>Gross Profit</th>\n",
       "      <th>R&amp;D Expenses</th>\n",
       "      <th>SG&amp;A Expense</th>\n",
       "      <th>Operating Expenses</th>\n",
       "      <th>Operating Income</th>\n",
       "      <th>Interest Expense</th>\n",
       "      <th>...</th>\n",
       "      <th>Inventory Growth</th>\n",
       "      <th>Asset Growth</th>\n",
       "      <th>Book Value per Share Growth</th>\n",
       "      <th>Debt Growth</th>\n",
       "      <th>R&amp;D Expense Growth</th>\n",
       "      <th>SG&amp;A Expenses Growth</th>\n",
       "      <th>Sector</th>\n",
       "      <th>PRICE VAR NEXT YEAR</th>\n",
       "      <th>Class</th>\n",
       "      <th>Year</th>\n",
       "    </tr>\n",
       "  </thead>\n",
       "  <tbody>\n",
       "    <tr>\n",
       "      <th>0</th>\n",
       "      <td>PG</td>\n",
       "      <td>7.440100e+10</td>\n",
       "      <td>-0.0713</td>\n",
       "      <td>3.903000e+10</td>\n",
       "      <td>3.537100e+10</td>\n",
       "      <td>0.000000e+00</td>\n",
       "      <td>2.146100e+10</td>\n",
       "      <td>2.146100e+10</td>\n",
       "      <td>1.391000e+10</td>\n",
       "      <td>7.090000e+08</td>\n",
       "      <td>...</td>\n",
       "      <td>-0.0217</td>\n",
       "      <td>0.0359</td>\n",
       "      <td>0.0316</td>\n",
       "      <td>0.1228</td>\n",
       "      <td>0.0000</td>\n",
       "      <td>-0.1746</td>\n",
       "      <td>Consumer Defensive</td>\n",
       "      <td>-9.323276</td>\n",
       "      <td>0</td>\n",
       "      <td>2014</td>\n",
       "    </tr>\n",
       "    <tr>\n",
       "      <th>1</th>\n",
       "      <td>VIPS</td>\n",
       "      <td>3.734148e+09</td>\n",
       "      <td>1.1737</td>\n",
       "      <td>2.805625e+09</td>\n",
       "      <td>9.285226e+08</td>\n",
       "      <td>1.083303e+08</td>\n",
       "      <td>3.441414e+08</td>\n",
       "      <td>7.939267e+08</td>\n",
       "      <td>1.345959e+08</td>\n",
       "      <td>1.214869e+07</td>\n",
       "      <td>...</td>\n",
       "      <td>NaN</td>\n",
       "      <td>NaN</td>\n",
       "      <td>NaN</td>\n",
       "      <td>NaN</td>\n",
       "      <td>1.6484</td>\n",
       "      <td>1.7313</td>\n",
       "      <td>Consumer Defensive</td>\n",
       "      <td>-25.512193</td>\n",
       "      <td>0</td>\n",
       "      <td>2014</td>\n",
       "    </tr>\n",
       "    <tr>\n",
       "      <th>2</th>\n",
       "      <td>KR</td>\n",
       "      <td>9.837500e+10</td>\n",
       "      <td>0.0182</td>\n",
       "      <td>7.813800e+10</td>\n",
       "      <td>2.023700e+10</td>\n",
       "      <td>0.000000e+00</td>\n",
       "      <td>1.519600e+10</td>\n",
       "      <td>1.751200e+10</td>\n",
       "      <td>2.725000e+09</td>\n",
       "      <td>4.430000e+08</td>\n",
       "      <td>...</td>\n",
       "      <td>0.0981</td>\n",
       "      <td>0.1886</td>\n",
       "      <td>0.3268</td>\n",
       "      <td>0.2738</td>\n",
       "      <td>0.0000</td>\n",
       "      <td>0.0234</td>\n",
       "      <td>Consumer Defensive</td>\n",
       "      <td>33.118297</td>\n",
       "      <td>1</td>\n",
       "      <td>2014</td>\n",
       "    </tr>\n",
       "    <tr>\n",
       "      <th>3</th>\n",
       "      <td>RAD</td>\n",
       "      <td>2.552641e+10</td>\n",
       "      <td>0.0053</td>\n",
       "      <td>1.820268e+10</td>\n",
       "      <td>7.323734e+09</td>\n",
       "      <td>0.000000e+00</td>\n",
       "      <td>6.561162e+09</td>\n",
       "      <td>6.586482e+09</td>\n",
       "      <td>7.372520e+08</td>\n",
       "      <td>4.245910e+08</td>\n",
       "      <td>...</td>\n",
       "      <td>-0.0510</td>\n",
       "      <td>-0.0189</td>\n",
       "      <td>0.1963</td>\n",
       "      <td>-0.0458</td>\n",
       "      <td>0.0000</td>\n",
       "      <td>-0.0060</td>\n",
       "      <td>Consumer Defensive</td>\n",
       "      <td>2.752291</td>\n",
       "      <td>1</td>\n",
       "      <td>2014</td>\n",
       "    </tr>\n",
       "    <tr>\n",
       "      <th>4</th>\n",
       "      <td>GIS</td>\n",
       "      <td>1.790960e+10</td>\n",
       "      <td>0.0076</td>\n",
       "      <td>1.153980e+10</td>\n",
       "      <td>6.369800e+09</td>\n",
       "      <td>0.000000e+00</td>\n",
       "      <td>3.474300e+09</td>\n",
       "      <td>3.412400e+09</td>\n",
       "      <td>2.957400e+09</td>\n",
       "      <td>3.024000e+08</td>\n",
       "      <td>...</td>\n",
       "      <td>0.0090</td>\n",
       "      <td>0.0215</td>\n",
       "      <td>0.0274</td>\n",
       "      <td>0.1025</td>\n",
       "      <td>0.0000</td>\n",
       "      <td>-0.0220</td>\n",
       "      <td>Consumer Defensive</td>\n",
       "      <td>12.897715</td>\n",
       "      <td>1</td>\n",
       "      <td>2014</td>\n",
       "    </tr>\n",
       "  </tbody>\n",
       "</table>\n",
       "<p>5 rows × 226 columns</p>\n",
       "</div>"
      ],
      "text/plain": [
       "  Stock       Revenue  Revenue Growth  Cost of Revenue  Gross Profit  \\\n",
       "0    PG  7.440100e+10         -0.0713     3.903000e+10  3.537100e+10   \n",
       "1  VIPS  3.734148e+09          1.1737     2.805625e+09  9.285226e+08   \n",
       "2    KR  9.837500e+10          0.0182     7.813800e+10  2.023700e+10   \n",
       "3   RAD  2.552641e+10          0.0053     1.820268e+10  7.323734e+09   \n",
       "4   GIS  1.790960e+10          0.0076     1.153980e+10  6.369800e+09   \n",
       "\n",
       "   R&D Expenses  SG&A Expense  Operating Expenses  Operating Income  \\\n",
       "0  0.000000e+00  2.146100e+10        2.146100e+10      1.391000e+10   \n",
       "1  1.083303e+08  3.441414e+08        7.939267e+08      1.345959e+08   \n",
       "2  0.000000e+00  1.519600e+10        1.751200e+10      2.725000e+09   \n",
       "3  0.000000e+00  6.561162e+09        6.586482e+09      7.372520e+08   \n",
       "4  0.000000e+00  3.474300e+09        3.412400e+09      2.957400e+09   \n",
       "\n",
       "   Interest Expense  ...  Inventory Growth  Asset Growth  \\\n",
       "0      7.090000e+08  ...           -0.0217        0.0359   \n",
       "1      1.214869e+07  ...               NaN           NaN   \n",
       "2      4.430000e+08  ...            0.0981        0.1886   \n",
       "3      4.245910e+08  ...           -0.0510       -0.0189   \n",
       "4      3.024000e+08  ...            0.0090        0.0215   \n",
       "\n",
       "   Book Value per Share Growth  Debt Growth  R&D Expense Growth  \\\n",
       "0                       0.0316       0.1228              0.0000   \n",
       "1                          NaN          NaN              1.6484   \n",
       "2                       0.3268       0.2738              0.0000   \n",
       "3                       0.1963      -0.0458              0.0000   \n",
       "4                       0.0274       0.1025              0.0000   \n",
       "\n",
       "   SG&A Expenses Growth              Sector  PRICE VAR NEXT YEAR  Class  Year  \n",
       "0               -0.1746  Consumer Defensive            -9.323276      0  2014  \n",
       "1                1.7313  Consumer Defensive           -25.512193      0  2014  \n",
       "2                0.0234  Consumer Defensive            33.118297      1  2014  \n",
       "3               -0.0060  Consumer Defensive             2.752291      1  2014  \n",
       "4               -0.0220  Consumer Defensive            12.897715      1  2014  \n",
       "\n",
       "[5 rows x 226 columns]"
      ]
     },
     "execution_count": 1,
     "metadata": {},
     "output_type": "execute_result"
    }
   ],
   "source": [
    "import pandas as pd\n",
    "import numpy as np\n",
    "\n",
    "from mlxtend.evaluate import paired_ttest_5x2cv\n",
    "\n",
    "import matplotlib.pyplot as plt\n",
    "\n",
    "import warnings\n",
    "\n",
    "import seaborn as sn\n",
    "\n",
    "import warnings\n",
    "\n",
    "from sklearn.model_selection import cross_validate\n",
    "from sklearn.tree import DecisionTreeClassifier \n",
    "from sklearn.naive_bayes import GaussianNB\n",
    "from sklearn import svm\n",
    "from sklearn.neural_network import MLPClassifier\n",
    "from sklearn import metrics \n",
    "from sklearn.ensemble import BaggingClassifier\n",
    "from sklearn.ensemble import AdaBoostClassifier\n",
    "from sklearn.model_selection import KFold\n",
    "from sklearn.model_selection import cross_val_score\n",
    "from sklearn.model_selection import train_test_split\n",
    "from sklearn.neighbors import KNeighborsClassifier\n",
    "from sklearn.metrics import plot_confusion_matrix\n",
    "from sklearn.preprocessing import StandardScaler\n",
    "from sklearn.model_selection import StratifiedKFold\n",
    "from sklearn.metrics import make_scorer, accuracy_score, precision_score, recall_score, f1_score, roc_auc_score\n",
    "\n",
    "warnings.filterwarnings('ignore')\n",
    "\n",
    "#Reading data\n",
    "df2014=pd.read_csv(\"../2014_Financial_Data.csv\")\n",
    "df2015=pd.read_csv(\"../2015_Financial_Data.csv\")\n",
    "df2016=pd.read_csv(\"../2016_Financial_Data.csv\")\n",
    "df2017=pd.read_csv(\"../2017_Financial_Data.csv\")\n",
    "df2018=pd.read_csv(\"../2018_Financial_Data.csv\")\n",
    "\n",
    "#Changing column name for price variation into same name\n",
    "df2014.rename(columns={\"2015 PRICE VAR [%]\": \"PRICE VAR NEXT YEAR\"},inplace=True)\n",
    "df2015.rename(columns={\"2016 PRICE VAR [%]\": \"PRICE VAR NEXT YEAR\"},inplace=True)\n",
    "df2016.rename(columns={\"2017 PRICE VAR [%]\": \"PRICE VAR NEXT YEAR\"},inplace=True)\n",
    "df2017.rename(columns={\"2018 PRICE VAR [%]\": \"PRICE VAR NEXT YEAR\"},inplace=True)\n",
    "df2018.rename(columns={\"2019 PRICE VAR [%]\": \"PRICE VAR NEXT YEAR\"},inplace=True)\n",
    "\n",
    "#Adding year attribute for each csv file\n",
    "df2014['Year']=2014\n",
    "df2015['Year']=2015\n",
    "df2016['Year']=2016\n",
    "df2017['Year']=2017\n",
    "df2018['Year']=2018\n",
    "\n",
    "data = pd.concat([df2014 ,df2015, df2016, df2017, df2018])\n",
    "data.rename(columns={'Unnamed: 0':'Stock'}, inplace=True)\n",
    "\n",
    "print(len(df2018))\n",
    "data.info()\n",
    "data.head()"
   ]
  },
  {
   "cell_type": "code",
   "execution_count": 2,
   "metadata": {},
   "outputs": [],
   "source": [
    "X=data\n",
    "y=data[\"Class\"]\n",
    "\n",
    "X=X.drop(\"Stock\",axis=1)\n",
    "X=X.drop(\"PRICE VAR NEXT YEAR\",axis=1)\n",
    "X=X.drop(\"Class\",axis=1)\n",
    "X=X.drop(\"Year\",axis=1)"
   ]
  },
  {
   "cell_type": "markdown",
   "metadata": {},
   "source": [
    "<h3>Dropping attributes which frequently contain missing values</h3>"
   ]
  },
  {
   "cell_type": "code",
   "execution_count": 3,
   "metadata": {},
   "outputs": [
    {
     "name": "stdout",
     "output_type": "stream",
     "text": [
      "['priceEarningsToGrowthRatio', 'ebtperEBIT', 'niperEBT', 'effectiveTaxRate', 'nIperEBT', 'eBTperEBIT', 'operatingCycle', 'cashConversionCycle', 'shortTermCoverageRatios', 'dividendPayoutRatio', 'Net Debt to EBITDA', '10Y Revenue Growth (per Share)', '10Y Operating CF Growth (per Share)', '10Y Net Income Growth (per Share)', '10Y Shareholders Equity Growth (per Share)', '10Y Dividend per Share Growth (per Share)'] 16\n"
     ]
    }
   ],
   "source": [
    "attributeNames=X.columns.tolist()\n",
    "missingPercentage = X.isnull().sum() * 100 / len(X) # missing val % for each column\n",
    "thresholdedAttribute=missingPercentage.where(missingPercentage>=33)\n",
    "thresholdedAttribute=[attributeNames[a] for a in range(len(thresholdedAttribute)) if str(thresholdedAttribute[a]) != \"nan\"]\n",
    "print(thresholdedAttribute,len(thresholdedAttribute))"
   ]
  },
  {
   "cell_type": "code",
   "execution_count": 4,
   "metadata": {},
   "outputs": [
    {
     "name": "stdout",
     "output_type": "stream",
     "text": [
      "(22077, 222)\n",
      "(22077, 206)\n"
     ]
    }
   ],
   "source": [
    "#drop the columns that has more than 33% missing values\n",
    "print(X.shape)\n",
    "X=X.drop(thresholdedAttribute,axis=1)\n",
    "print(X.shape)\n",
    "attributeNames=X.columns.tolist()\n",
    "missingPercentage = X.isnull().sum() * 100 / len(X) # missing val % for each column"
   ]
  },
  {
   "cell_type": "code",
   "execution_count": 5,
   "metadata": {},
   "outputs": [],
   "source": [
    "# Replace nan-values with mean value of column, considering each sector individually.\n",
    "X = X.groupby(['Sector']).transform(lambda x: x.fillna(x.mean()))"
   ]
  },
  {
   "cell_type": "markdown",
   "metadata": {},
   "source": [
    "<h1>1- Feature Selection Overview</h1>"
   ]
  },
  {
   "cell_type": "markdown",
   "metadata": {},
   "source": [
    "**Mutual Information**"
   ]
  },
  {
   "cell_type": "code",
   "execution_count": 6,
   "metadata": {},
   "outputs": [
    {
     "name": "stdout",
     "output_type": "stream",
     "text": [
      "+-------------------------------+----------------------+--------------------+\n",
      "|           Attribute           |        Score         |  Missing Values %  |\n",
      "+-------------------------------+----------------------+--------------------+\n",
      "|    Total non-current assets   | 0.022112280957419017 | 27.27725687366943  |\n",
      "|          EBIT Margin          | 0.022054091974503587 | 7.582551977170811  |\n",
      "|         eBITperRevenue        | 0.01920992042646863  | 12.963717896453323 |\n",
      "|          Gross Profit         | 0.019154132780264455 | 5.467228337183494  |\n",
      "|          payoutRatio          | 0.018948078374790178 | 10.82574625175522  |\n",
      "| Total non-current liabilities | 0.018644065311503644 | 27.340671286859628 |\n",
      "|      Earnings before Tax      | 0.01823924284012657  | 6.178375685102142  |\n",
      "|         ebitperRevenue        | 0.018153038022910906 | 12.963717896453323 |\n",
      "|              EPS              | 0.017993695863804504 | 5.893010825746252  |\n",
      "|   Earnings Before Tax Margin  | 0.017921437192584877 |  5.41287312587761  |\n",
      "|     Free Cash Flow margin     | 0.01782413204082678  | 10.377315758481679 |\n",
      "|         Profit Margin         | 0.016968018418720643 | 11.070344702631699 |\n",
      "|        netProfitMargin        | 0.01651437783387477  | 12.963717896453323 |\n",
      "|         EBITDA Margin         | 0.016334752774368688 | 11.08393350545817  |\n",
      "|   Total shareholders equity   | 0.016233635705729332 | 6.214612492639398  |\n",
      "|         dividendYield         | 0.016230110792283314 | 14.938623907233772 |\n",
      "|      Consolidated Income      | 0.016169867868345955 | 7.097884676360013  |\n",
      "|          Other Assets         | 0.016166675280912646 | 30.601983965212664 |\n",
      "|       Net Profit Margin       | 0.016102373873498665 | 7.799972822394347  |\n",
      "|           Net Income          | 0.01600560547987806  | 7.088825474475699  |\n",
      "+-------------------------------+----------------------+--------------------+\n"
     ]
    }
   ],
   "source": [
    "#https://medium.com/@hertan06/which-features-to-use-in-your-model-350630a1e31c\n",
    "#We use Mutual Information...\n",
    "from sklearn.feature_selection import mutual_info_classif\n",
    "from sklearn.feature_selection import f_classif\n",
    "from prettytable import PrettyTable\n",
    "t = PrettyTable(['Attribute', 'Score','Missing Values %'])\n",
    "threshold = 20  # the number of most relevant features\n",
    "high_score_features = []\n",
    "\n",
    "feature_scores = mutual_info_classif(X, y, random_state=0)\n",
    "#feature_scores = f_classif(X, y)[0]\n",
    "for score, f_name in sorted(zip(feature_scores, X.columns), reverse=True)[:threshold]:\n",
    "        t.add_row([f_name, score, missingPercentage[attributeNames.index(f_name)]])\n",
    "        high_score_features.append(f_name)\n",
    "print(t)"
   ]
  },
  {
   "cell_type": "markdown",
   "metadata": {},
   "source": [
    "**Anova F-Value**"
   ]
  },
  {
   "cell_type": "code",
   "execution_count": 7,
   "metadata": {},
   "outputs": [
    {
     "name": "stdout",
     "output_type": "stream",
     "text": [
      "+---------------------------------+--------------------+--------------------+\n",
      "|            Attribute            |       Score        |  Missing Values %  |\n",
      "+---------------------------------+--------------------+--------------------+\n",
      "|        Dividend payments        | 40.99933856904691  | 9.765819631290483  |\n",
      "|           Gross Margin          | 32.31890334987439  | 5.4309915296462385 |\n",
      "|       Earnings before Tax       | 31.54958855350051  | 6.178375685102142  |\n",
      "|          Free Cash Flow         | 31.143068580384302 | 7.424015944195316  |\n",
      "|         Operating Income        | 27.759629645131373 | 4.987090637314853  |\n",
      "|     Stock-based compensation    | 27.303706581127024 | 7.849798432758074  |\n",
      "|           SG&A Expense          | 23.464233709464327 | 7.5599039724600265 |\n",
      "| Cash and short-term investments | 22.72453457323068  | 11.210762331838565 |\n",
      "|           R&D Expenses          | 22.336960734419254 | 9.684286814331657  |\n",
      "|  Issuance (buybacks) of shares  |  22.1082255055086  | 8.796485029668887  |\n",
      "|              EBITDA             | 20.253538575804583 | 7.944920052543371  |\n",
      "|           Gross Profit          | 19.585008492335405 | 5.467228337183494  |\n",
      "|               EBIT              | 16.072282497737262 | 6.4546813425737195 |\n",
      "|   Retained earnings (deficit)   | 15.51009740357719  | 5.286044299497214  |\n",
      "|          ebitperRevenue         | 15.122352264938574 | 12.963717896453323 |\n",
      "|  Goodwill and Intangible Assets | 14.643294274095304 | 6.509036553879604  |\n",
      "|    Total current liabilities    | 14.41323496095706  | 11.450831181772886 |\n",
      "|      Short-term investments     | 14.142473710094146 | 12.284277755129773 |\n",
      "|        Operating Expenses       | 13.792811693653622 | 7.709380803551207  |\n",
      "|          Net Income Com         | 13.71337691993083  | 6.300674910540382  |\n",
      "+---------------------------------+--------------------+--------------------+\n"
     ]
    }
   ],
   "source": [
    "#https://medium.com/@hertan06/which-features-to-use-in-your-model-350630a1e31c\n",
    "#We use ANOVA F-value...\n",
    "from sklearn.feature_selection import mutual_info_classif\n",
    "from sklearn.feature_selection import f_classif\n",
    "from prettytable import PrettyTable\n",
    "t = PrettyTable(['Attribute', 'Score','Missing Values %'])\n",
    "threshold = 20  # the number of most relevant features\n",
    "high_score_features = []\n",
    "\n",
    "#feature_scores = mutual_info_classif(X, y, random_state=0)\n",
    "feature_scores = f_classif(X, y)[0]\n",
    "for score, f_name in sorted(zip(feature_scores, X.columns), reverse=True)[:threshold]:\n",
    "        t.add_row([f_name, score, missingPercentage[attributeNames.index(f_name)]])\n",
    "        high_score_features.append(f_name)\n",
    "print(t)"
   ]
  },
  {
   "cell_type": "markdown",
   "metadata": {},
   "source": [
    "<h3>Train-Test Split</h3>"
   ]
  },
  {
   "cell_type": "code",
   "execution_count": 8,
   "metadata": {},
   "outputs": [],
   "source": [
    "# LAST YEAR==2018/LAST CSV IS OUR TEST SET THERE IS NO CROSS VALIDATION APPLIED\n",
    "\n",
    "X_train=X[0:(len(X)-4392)]\n",
    "X_test=X[(len(X)-4392):len(X)]\n",
    "y_train=y[0:(len(X)-4392)]\n",
    "y_test=y[(len(X)-4392):len(X)]"
   ]
  },
  {
   "cell_type": "code",
   "execution_count": 9,
   "metadata": {},
   "outputs": [],
   "source": [
    "# Define the scaler \n",
    "scaler = StandardScaler().fit(X)\n",
    "\n",
    "# Scale the train set\n",
    "X_train = scaler.transform(X_train)\n",
    "\n",
    "# Scale the test set\n",
    "X_test = scaler.transform(X_test)"
   ]
  },
  {
   "cell_type": "markdown",
   "metadata": {},
   "source": [
    "<h1>2- Classification Experiments</h1>"
   ]
  },
  {
   "cell_type": "markdown",
   "metadata": {},
   "source": [
    "We did not use Cross Validation or any other methods like that.\n",
    "We split our train and test set according to years.\n",
    "Last years csv, 2018, is our test set.\n",
    "And we use all features in all experiments."
   ]
  },
  {
   "cell_type": "code",
   "execution_count": 10,
   "metadata": {},
   "outputs": [],
   "source": [
    "def dfInsertRow(df,row):\n",
    "    row_series = pd.Series(row, index = df.columns)\n",
    "    df = df.append(row_series, ignore_index=True)\n",
    "    return df\n",
    "\n",
    "def Classification(classifier,X_train,y_train,X_test,y_test,classifierName): #Direct classification \n",
    "    clf = classifier.fit(X_train,y_train)\n",
    "    y_pred = clf.predict(X_test)\n",
    "    y_score= clf.predict_proba(X_test)\n",
    "    y_score = y_score[:, 1]\n",
    "    fpr, tpr, threshold = metrics.roc_curve(y_test, y_score)\n",
    "    return [classifierName,\n",
    "           metrics.accuracy_score(y_test, y_pred),metrics.f1_score(y_test, y_pred,average=\"macro\"),\n",
    "           metrics.f1_score(y_test, y_pred,average=\"micro\"),metrics.roc_auc_score(y_test,y_score),fpr,tpr,y_pred]\n",
    "    \n",
    "    \n",
    "dfEvaluation  = pd.DataFrame(columns = [\"Experiment\", \"Accuracy\", \"F1-macro\", \"F1-micro\", \"AUC\",\"FPR\",\"TPR\",\"y_pred\"]) \n",
    "dfROC = pd.DataFrame(columns=[\"Experiment\", \"AUC\",\"FPR\",\"TPR\"])\n",
    "dfConfusionMatrix = pd.DataFrame(columns=[\"Experiment\", \"Accuracy\",\"y_pred\"])"
   ]
  },
  {
   "cell_type": "code",
   "execution_count": 11,
   "metadata": {},
   "outputs": [],
   "source": [
    "#dfEvaluation=dfInsertRow(dfEvaluation,CrossValidation(clfgini,X,y,\"gini\"))\n",
    "#dfEvaluation=dfInsertRow(dfEvaluation,Bagging(clfgini,X_train,y_train,X_test,y_test,\"gini\"))\n",
    "#dfEvaluation=dfInsertRow(dfEvaluation,Boosting(clfgini,X_train,y_train,X_test,y_test,\"gini\"))"
   ]
  },
  {
   "cell_type": "markdown",
   "metadata": {},
   "source": [
    "**Decision Tree with Gini Index**"
   ]
  },
  {
   "cell_type": "code",
   "execution_count": 12,
   "metadata": {},
   "outputs": [],
   "source": [
    "clfgini = DecisionTreeClassifier(criterion=\"gini\")\n",
    "dfEvaluation=dfInsertRow(dfEvaluation,Classification(clfgini,X_train,y_train,X_test,y_test,\"Decision Tree with Gini Index\"))"
   ]
  },
  {
   "cell_type": "markdown",
   "metadata": {},
   "source": [
    "**Decision Tree with Gain Ratio**"
   ]
  },
  {
   "cell_type": "code",
   "execution_count": 13,
   "metadata": {},
   "outputs": [],
   "source": [
    "clfgain = DecisionTreeClassifier(criterion=\"entropy\")\n",
    "dfEvaluation=dfInsertRow(dfEvaluation,Classification(clfgain,X_train,y_train,X_test,y_test,\"Decision Tree with Gain Ratio\"))"
   ]
  },
  {
   "cell_type": "markdown",
   "metadata": {},
   "source": [
    "**Naïve Bayes**"
   ]
  },
  {
   "cell_type": "code",
   "execution_count": 14,
   "metadata": {},
   "outputs": [],
   "source": [
    "clfGaussianNB = GaussianNB()\n",
    "dfEvaluation=dfInsertRow(dfEvaluation,Classification(clfGaussianNB,X_train,y_train,X_test,y_test,\"Naive Bayes\"))"
   ]
  },
  {
   "cell_type": "markdown",
   "metadata": {},
   "source": [
    "**Artificial neural networks with 1 hidden layer**"
   ]
  },
  {
   "cell_type": "code",
   "execution_count": 15,
   "metadata": {},
   "outputs": [],
   "source": [
    "clfANN1=MLPClassifier(hidden_layer_sizes=(140,),random_state=1, max_iter=1000)\n",
    "dfEvaluation=dfInsertRow(dfEvaluation,Classification(clfANN1,X_train,y_train,X_test,y_test,\"ANN with 1 hidden layer\"))"
   ]
  },
  {
   "cell_type": "markdown",
   "metadata": {},
   "source": [
    "**Artificial neural networks with 1 hidden layer**"
   ]
  },
  {
   "cell_type": "code",
   "execution_count": 16,
   "metadata": {},
   "outputs": [],
   "source": [
    "clfANN2=MLPClassifier(hidden_layer_sizes=(70,70,),random_state=1, max_iter=1000)\n",
    "dfEvaluation=dfInsertRow(dfEvaluation,Classification(clfANN2,X_train,y_train,X_test,y_test,\"ANN with 2 hidden layer\"))"
   ]
  },
  {
   "cell_type": "markdown",
   "metadata": {},
   "source": [
    "**k-NN, n_neighbors=3**"
   ]
  },
  {
   "cell_type": "code",
   "execution_count": 17,
   "metadata": {},
   "outputs": [],
   "source": [
    "clfKNN5= KNeighborsClassifier(n_neighbors=3)\n",
    "dfEvaluation=dfInsertRow(dfEvaluation,Classification(clfKNN5,X_train,y_train,X_test,y_test,\"KNN 3\"))"
   ]
  },
  {
   "cell_type": "markdown",
   "metadata": {},
   "source": [
    "**k-NN, n_neighbors=9**"
   ]
  },
  {
   "cell_type": "code",
   "execution_count": 18,
   "metadata": {},
   "outputs": [],
   "source": [
    "clfKNN15= KNeighborsClassifier(n_neighbors=9)\n",
    "dfEvaluation=dfInsertRow(dfEvaluation,Classification(clfKNN15,X_train,y_train,X_test,y_test,\"KNN 9\"))"
   ]
  },
  {
   "cell_type": "markdown",
   "metadata": {},
   "source": [
    "**k-NN, n_neighbors=149**"
   ]
  },
  {
   "cell_type": "code",
   "execution_count": 19,
   "metadata": {},
   "outputs": [],
   "source": [
    "clfKNN25= KNeighborsClassifier(n_neighbors=149)\n",
    "dfEvaluation=dfInsertRow(dfEvaluation,Classification(clfKNN25,X_train,y_train,X_test,y_test,\"KNN 149\"))"
   ]
  },
  {
   "cell_type": "markdown",
   "metadata": {},
   "source": [
    "**Table for evaluation**"
   ]
  },
  {
   "cell_type": "code",
   "execution_count": 20,
   "metadata": {},
   "outputs": [
    {
     "data": {
      "text/html": [
       "<div>\n",
       "<style scoped>\n",
       "    .dataframe tbody tr th:only-of-type {\n",
       "        vertical-align: middle;\n",
       "    }\n",
       "\n",
       "    .dataframe tbody tr th {\n",
       "        vertical-align: top;\n",
       "    }\n",
       "\n",
       "    .dataframe thead th {\n",
       "        text-align: right;\n",
       "    }\n",
       "</style>\n",
       "<table border=\"1\" class=\"dataframe\">\n",
       "  <thead>\n",
       "    <tr style=\"text-align: right;\">\n",
       "      <th></th>\n",
       "      <th>Experiment</th>\n",
       "      <th>Accuracy</th>\n",
       "      <th>F1-macro</th>\n",
       "      <th>F1-micro</th>\n",
       "      <th>AUC</th>\n",
       "    </tr>\n",
       "  </thead>\n",
       "  <tbody>\n",
       "    <tr>\n",
       "      <th>0</th>\n",
       "      <td>Decision Tree with Gini Index</td>\n",
       "      <td>0.549408</td>\n",
       "      <td>0.526452</td>\n",
       "      <td>0.549408</td>\n",
       "      <td>0.546175</td>\n",
       "    </tr>\n",
       "    <tr>\n",
       "      <th>1</th>\n",
       "      <td>Decision Tree with Gain Ratio</td>\n",
       "      <td>0.549180</td>\n",
       "      <td>0.529144</td>\n",
       "      <td>0.549180</td>\n",
       "      <td>0.552062</td>\n",
       "    </tr>\n",
       "    <tr>\n",
       "      <th>2</th>\n",
       "      <td>Naive Bayes</td>\n",
       "      <td>0.684426</td>\n",
       "      <td>0.438087</td>\n",
       "      <td>0.684426</td>\n",
       "      <td>0.506445</td>\n",
       "    </tr>\n",
       "    <tr>\n",
       "      <th>3</th>\n",
       "      <td>ANN with 1 hidden layer</td>\n",
       "      <td>0.558743</td>\n",
       "      <td>0.550966</td>\n",
       "      <td>0.558743</td>\n",
       "      <td>0.622139</td>\n",
       "    </tr>\n",
       "    <tr>\n",
       "      <th>4</th>\n",
       "      <td>ANN with 2 hidden layer</td>\n",
       "      <td>0.504326</td>\n",
       "      <td>0.491745</td>\n",
       "      <td>0.504326</td>\n",
       "      <td>0.542193</td>\n",
       "    </tr>\n",
       "    <tr>\n",
       "      <th>5</th>\n",
       "      <td>KNN 3</td>\n",
       "      <td>0.538934</td>\n",
       "      <td>0.520596</td>\n",
       "      <td>0.538934</td>\n",
       "      <td>0.556304</td>\n",
       "    </tr>\n",
       "    <tr>\n",
       "      <th>6</th>\n",
       "      <td>KNN 9</td>\n",
       "      <td>0.564435</td>\n",
       "      <td>0.545476</td>\n",
       "      <td>0.564435</td>\n",
       "      <td>0.599063</td>\n",
       "    </tr>\n",
       "    <tr>\n",
       "      <th>7</th>\n",
       "      <td>KNN 149</td>\n",
       "      <td>0.663934</td>\n",
       "      <td>0.625440</td>\n",
       "      <td>0.663934</td>\n",
       "      <td>0.680842</td>\n",
       "    </tr>\n",
       "  </tbody>\n",
       "</table>\n",
       "</div>"
      ],
      "text/plain": [
       "                      Experiment  Accuracy  F1-macro  F1-micro       AUC\n",
       "0  Decision Tree with Gini Index  0.549408  0.526452  0.549408  0.546175\n",
       "1  Decision Tree with Gain Ratio  0.549180  0.529144  0.549180  0.552062\n",
       "2                    Naive Bayes  0.684426  0.438087  0.684426  0.506445\n",
       "3        ANN with 1 hidden layer  0.558743  0.550966  0.558743  0.622139\n",
       "4        ANN with 2 hidden layer  0.504326  0.491745  0.504326  0.542193\n",
       "5                          KNN 3  0.538934  0.520596  0.538934  0.556304\n",
       "6                          KNN 9  0.564435  0.545476  0.564435  0.599063\n",
       "7                        KNN 149  0.663934  0.625440  0.663934  0.680842"
      ]
     },
     "execution_count": 20,
     "metadata": {},
     "output_type": "execute_result"
    }
   ],
   "source": [
    "dfROC[\"Experiment\"]=dfEvaluation[\"Experiment\"]\n",
    "dfROC[\"AUC\"]=dfEvaluation[\"AUC\"]\n",
    "dfROC[\"FPR\"]=dfEvaluation[\"FPR\"]\n",
    "dfROC[\"TPR\"]=dfEvaluation[\"TPR\"]\n",
    "dfEvaluation=dfEvaluation.drop([\"FPR\",\"TPR\"],axis=1)\n",
    "\n",
    "dfConfusionMatrix[\"Experiment\"]=dfEvaluation[\"Experiment\"]\n",
    "dfConfusionMatrix[\"Accuracy\"]=dfEvaluation[\"Accuracy\"]\n",
    "dfConfusionMatrix[\"y_pred\"]=dfEvaluation[\"y_pred\"]\n",
    "dfEvaluation=dfEvaluation.drop([\"y_pred\"],axis=1)\n",
    "\n",
    "#TABLE\n",
    "dfEvaluation.head(len(dfEvaluation))"
   ]
  },
  {
   "cell_type": "markdown",
   "metadata": {},
   "source": [
    "<h1>3- ROC Curves</h1>"
   ]
  },
  {
   "cell_type": "code",
   "execution_count": 21,
   "metadata": {
    "scrolled": false
   },
   "outputs": [
    {
     "data": {
      "text/plain": [
       "<matplotlib.legend.Legend at 0x1d9c044c358>"
      ]
     },
     "execution_count": 21,
     "metadata": {},
     "output_type": "execute_result"
    },
    {
     "data": {
      "image/png": "[encoded data removed]",
      "text/plain": [
       "<Figure size 400x400 with 1 Axes>"
      ]
     },
     "metadata": {
      "needs_background": "light"
     },
     "output_type": "display_data"
    }
   ],
   "source": [
    "plt.figure(figsize=(4, 4), dpi=100).clf()\n",
    "for i in range(len(dfROC)):\n",
    "    plt.plot(dfROC[\"FPR\"][i],dfROC[\"TPR\"][i],label=str(dfROC[\"Experiment\"][i])+\", auc=\"+str(dfROC[\"AUC\"][i]))\n",
    "plt.legend(loc='center left', bbox_to_anchor=(1, 0.5))"
   ]
  },
  {
   "cell_type": "markdown",
   "metadata": {},
   "source": [
    "<h1>4- Confusion Matrix</h1>"
   ]
  },
  {
   "cell_type": "code",
   "execution_count": 22,
   "metadata": {},
   "outputs": [
    {
     "name": "stdout",
     "output_type": "stream",
     "text": [
      "\tConfusion Matrix for Naive Bayes\n"
     ]
    },
    {
     "data": {
      "image/png": "[encoded data removed]",
      "text/plain": [
       "<Figure size 432x288 with 2 Axes>"
      ]
     },
     "metadata": {
      "needs_background": "light"
     },
     "output_type": "display_data"
    }
   ],
   "source": [
    "bestIndex=dfConfusionMatrix.Accuracy.idxmax()\n",
    "print(\"\\tConfusion Matrix for\",dfConfusionMatrix[\"Experiment\"][bestIndex])\n",
    "data = {'y_test':    y_test,\n",
    "        'y_pred': dfConfusionMatrix[\"y_pred\"][bestIndex]\n",
    "        }\n",
    "dfCMplt = pd.DataFrame(data, columns=['y_test','y_pred'])\n",
    "confusion_matrix = pd.crosstab(dfCMplt['y_test'], dfCMplt['y_pred'], rownames=['Actual'], colnames=['Predicted'])\n",
    "\n",
    "sn.heatmap(confusion_matrix, annot=True,fmt='g')\n",
    "plt.show()"
   ]
  },
  {
   "cell_type": "markdown",
   "metadata": {},
   "source": [
    "<h1>5- Statistical significance analysis between your best performing model and its closest competitor \n",
    "Naive Bayes vs KNN 149</h1>"
   ]
  },
  {
   "cell_type": "code",
   "execution_count": 23,
   "metadata": {},
   "outputs": [
    {
     "name": "stdout",
     "output_type": "stream",
     "text": [
      "The P-value is = 0.446\n",
      "The t-statistics is = -0.826\n",
      "Since p>0.05, we cannot reject the null hypothesis and may conclude that the performance of the two algorithms is not significantly different.\n"
     ]
    }
   ],
   "source": [
    "#https://towardsdatascience.com/evaluate-ml-classifier-performance-using-statistical-hypothesis-testing-in-python-e4b90eb27dce\n",
    "# check if difference between algorithms is real\n",
    "t, p = paired_ttest_5x2cv(estimator1=clfGaussianNB, \n",
    "                          estimator2=clfKNN25, \n",
    "                          X=X, \n",
    "                          y=y, \n",
    "                          scoring='accuracy', \n",
    "                          random_seed=1)\n",
    "# summarize\n",
    "print(f'The P-value is = {p:.3f}')\n",
    "print(f'The t-statistics is = {t:.3f}')\n",
    "# interpret the result\n",
    "if p <= 0.05:\n",
    "    print('Since p<0.05, We can reject the null-hypothesis that both models perform equally well on this dataset. We may conclude that the two algorithms are significantly different.')\n",
    "else:\n",
    "    print('Since p>0.05, we cannot reject the null hypothesis and may conclude that the performance of the two algorithms is not significantly different.')"
   ]
  }
 ],
 "metadata": {
  "kernelspec": {
   "display_name": "Python 3",
   "language": "python",
   "name": "python3"
  },
  "language_info": {
   "codemirror_mode": {
    "name": "ipython",
    "version": 3
   },
   "file_extension": ".py",
   "mimetype": "text/x-python",
   "name": "python",
   "nbconvert_exporter": "python",
   "pygments_lexer": "ipython3",
   "version": "3.7.0"
  }
 },
 "nbformat": 4,
 "nbformat_minor": 4
}
